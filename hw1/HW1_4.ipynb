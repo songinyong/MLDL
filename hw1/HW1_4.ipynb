{
 "cells": [
  {
   "cell_type": "code",
   "execution_count": 25,
   "id": "b3fc0415",
   "metadata": {},
   "outputs": [],
   "source": [
    "#Python code to address question 4.\n",
    "#Creating a dataframe identical to the one in the question.\n",
    "import numpy as np\n",
    "data = {\n",
    "    'Obs': [1, 2, 3, 4, 5, 6],\n",
    "    'X1': [0, 2, 0, 0, -1, 1],\n",
    "    'X2': [3, 0, 1, 1, 0, 1],\n",
    "    'X3': [0, 0, 3, 2, 1, 1],\n",
    "    'Y': ['Red', 'Red', 'Red', 'Green', 'Green', 'Red']\n",
    "}\n",
    "\n",
    "q4 = pd.DataFrame(data)"
   ]
  },
  {
   "cell_type": "code",
   "execution_count": 23,
   "id": "18b5336f",
   "metadata": {},
   "outputs": [
    {
     "name": "stdout",
     "output_type": "stream",
     "text": [
      "   Obs  X1  X2  X3      Y\n",
      "0    1   0   3   0    Red\n",
      "1    2   2   0   0    Red\n",
      "2    3   0   1   3    Red\n",
      "3    4   0   1   2  Green\n",
      "4    5  -1   0   1  Green\n",
      "5    6   1   1   1    Red\n"
     ]
    }
   ],
   "source": [
    "print(q4)"
   ]
  },
  {
   "cell_type": "code",
   "execution_count": 26,
   "id": "a0779d86",
   "metadata": {},
   "outputs": [
    {
     "name": "stdout",
     "output_type": "stream",
     "text": [
      "   Obs  X1  X2  X3      Y  Distance\n",
      "0    1   0   3   0    Red  3.000000\n",
      "1    2   2   0   0    Red  2.000000\n",
      "2    3   0   1   3    Red  3.162278\n",
      "3    4   0   1   2  Green  2.236068\n",
      "4    5  -1   0   1  Green  1.414214\n",
      "5    6   1   1   1    Red  1.732051\n"
     ]
    }
   ],
   "source": [
    "# test_point \n",
    "\n",
    "test_point = np.array([0, 0, 0])\n",
    "\n",
    "# Compute the Euclidean distance between all rows in pandas and the test_point (0,0,0) and store in 'Distance' column.\n",
    "q4['Distance'] = q4.apply(lambda row: np.linalg.norm(test_point - np.array([row['X1'], row['X2'], row['X3']])), axis=1)\n",
    "\n",
    "print(q4)"
   ]
  },
  {
   "cell_type": "code",
   "execution_count": 27,
   "id": "e382f4ce",
   "metadata": {},
   "outputs": [
    {
     "data": {
      "text/html": [
       "<div>\n",
       "<style scoped>\n",
       "    .dataframe tbody tr th:only-of-type {\n",
       "        vertical-align: middle;\n",
       "    }\n",
       "\n",
       "    .dataframe tbody tr th {\n",
       "        vertical-align: top;\n",
       "    }\n",
       "\n",
       "    .dataframe thead th {\n",
       "        text-align: right;\n",
       "    }\n",
       "</style>\n",
       "<table border=\"1\" class=\"dataframe\">\n",
       "  <thead>\n",
       "    <tr style=\"text-align: right;\">\n",
       "      <th></th>\n",
       "      <th>Obs</th>\n",
       "      <th>X1</th>\n",
       "      <th>X2</th>\n",
       "      <th>X3</th>\n",
       "      <th>Y</th>\n",
       "      <th>Distance</th>\n",
       "    </tr>\n",
       "  </thead>\n",
       "  <tbody>\n",
       "    <tr>\n",
       "      <th>4</th>\n",
       "      <td>5</td>\n",
       "      <td>-1</td>\n",
       "      <td>0</td>\n",
       "      <td>1</td>\n",
       "      <td>Green</td>\n",
       "      <td>1.414214</td>\n",
       "    </tr>\n",
       "    <tr>\n",
       "      <th>5</th>\n",
       "      <td>6</td>\n",
       "      <td>1</td>\n",
       "      <td>1</td>\n",
       "      <td>1</td>\n",
       "      <td>Red</td>\n",
       "      <td>1.732051</td>\n",
       "    </tr>\n",
       "    <tr>\n",
       "      <th>1</th>\n",
       "      <td>2</td>\n",
       "      <td>2</td>\n",
       "      <td>0</td>\n",
       "      <td>0</td>\n",
       "      <td>Red</td>\n",
       "      <td>2.000000</td>\n",
       "    </tr>\n",
       "    <tr>\n",
       "      <th>3</th>\n",
       "      <td>4</td>\n",
       "      <td>0</td>\n",
       "      <td>1</td>\n",
       "      <td>2</td>\n",
       "      <td>Green</td>\n",
       "      <td>2.236068</td>\n",
       "    </tr>\n",
       "    <tr>\n",
       "      <th>0</th>\n",
       "      <td>1</td>\n",
       "      <td>0</td>\n",
       "      <td>3</td>\n",
       "      <td>0</td>\n",
       "      <td>Red</td>\n",
       "      <td>3.000000</td>\n",
       "    </tr>\n",
       "    <tr>\n",
       "      <th>2</th>\n",
       "      <td>3</td>\n",
       "      <td>0</td>\n",
       "      <td>1</td>\n",
       "      <td>3</td>\n",
       "      <td>Red</td>\n",
       "      <td>3.162278</td>\n",
       "    </tr>\n",
       "  </tbody>\n",
       "</table>\n",
       "</div>"
      ],
      "text/plain": [
       "   Obs  X1  X2  X3      Y  Distance\n",
       "4    5  -1   0   1  Green  1.414214\n",
       "5    6   1   1   1    Red  1.732051\n",
       "1    2   2   0   0    Red  2.000000\n",
       "3    4   0   1   2  Green  2.236068\n",
       "0    1   0   3   0    Red  3.000000\n",
       "2    3   0   1   3    Red  3.162278"
      ]
     },
     "execution_count": 27,
     "metadata": {},
     "output_type": "execute_result"
    }
   ],
   "source": [
    "sorted_q4 = q4.sort_values(by='Distance')\n",
    "sorted_q4"
   ]
  },
  {
   "cell_type": "code",
   "execution_count": null,
   "id": "d655f0e5",
   "metadata": {},
   "outputs": [],
   "source": []
  }
 ],
 "metadata": {
  "kernelspec": {
   "display_name": "Python 3 (ipykernel)",
   "language": "python",
   "name": "python3"
  },
  "language_info": {
   "codemirror_mode": {
    "name": "ipython",
    "version": 3
   },
   "file_extension": ".py",
   "mimetype": "text/x-python",
   "name": "python",
   "nbconvert_exporter": "python",
   "pygments_lexer": "ipython3",
   "version": "3.9.13"
  }
 },
 "nbformat": 4,
 "nbformat_minor": 5
}
